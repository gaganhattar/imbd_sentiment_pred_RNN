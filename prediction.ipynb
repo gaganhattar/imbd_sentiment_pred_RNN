{
 "cells": [
  {
   "cell_type": "code",
   "execution_count": 1,
   "metadata": {},
   "outputs": [],
   "source": [
    "# Step 1: Import Libraries and Load the Model\n",
    "import numpy as np\n",
    "import tensorflow as tf\n",
    "from tensorflow.keras.datasets import imdb\n",
    "from tensorflow.keras.preprocessing import sequence\n",
    "from tensorflow.keras.models import load_model"
   ]
  },
  {
   "cell_type": "code",
   "execution_count": 2,
   "metadata": {},
   "outputs": [],
   "source": [
    "\n",
    "# Load the IMDB dataset word index\n",
    "word_index = imdb.get_word_index()\n",
    "reverse_word_index = {value: key for key, value in word_index.items()}"
   ]
  },
  {
   "cell_type": "code",
   "execution_count": 3,
   "metadata": {},
   "outputs": [
    {
     "name": "stderr",
     "output_type": "stream",
     "text": [
      "WARNING:absl:Compiled the loaded model, but the compiled metrics have yet to be built. `model.compile_metrics` will be empty until you train or evaluate the model.\n"
     ]
    },
    {
     "data": {
      "text/html": [
       "<pre style=\"white-space:pre;overflow-x:auto;line-height:normal;font-family:Menlo,'DejaVu Sans Mono',consolas,'Courier New',monospace\"><span style=\"font-weight: bold\">Model: \"sequential\"</span>\n",
       "</pre>\n"
      ],
      "text/plain": [
       "\u001b[1mModel: \"sequential\"\u001b[0m\n"
      ]
     },
     "metadata": {},
     "output_type": "display_data"
    },
    {
     "data": {
      "text/html": [
       "<pre style=\"white-space:pre;overflow-x:auto;line-height:normal;font-family:Menlo,'DejaVu Sans Mono',consolas,'Courier New',monospace\">┏━━━━━━━━━━━━━━━━━━━━━━━━━━━━━━━━━┳━━━━━━━━━━━━━━━━━━━━━━━━┳━━━━━━━━━━━━━━━┓\n",
       "┃<span style=\"font-weight: bold\"> Layer (type)                    </span>┃<span style=\"font-weight: bold\"> Output Shape           </span>┃<span style=\"font-weight: bold\">       Param # </span>┃\n",
       "┡━━━━━━━━━━━━━━━━━━━━━━━━━━━━━━━━━╇━━━━━━━━━━━━━━━━━━━━━━━━╇━━━━━━━━━━━━━━━┩\n",
       "│ embedding (<span style=\"color: #0087ff; text-decoration-color: #0087ff\">Embedding</span>)           │ (<span style=\"color: #00af00; text-decoration-color: #00af00\">32</span>, <span style=\"color: #00af00; text-decoration-color: #00af00\">500</span>, <span style=\"color: #00af00; text-decoration-color: #00af00\">128</span>)         │     <span style=\"color: #00af00; text-decoration-color: #00af00\">1,280,000</span> │\n",
       "├─────────────────────────────────┼────────────────────────┼───────────────┤\n",
       "│ simple_rnn (<span style=\"color: #0087ff; text-decoration-color: #0087ff\">SimpleRNN</span>)          │ (<span style=\"color: #00af00; text-decoration-color: #00af00\">32</span>, <span style=\"color: #00af00; text-decoration-color: #00af00\">128</span>)              │        <span style=\"color: #00af00; text-decoration-color: #00af00\">32,896</span> │\n",
       "├─────────────────────────────────┼────────────────────────┼───────────────┤\n",
       "│ dense (<span style=\"color: #0087ff; text-decoration-color: #0087ff\">Dense</span>)                   │ (<span style=\"color: #00af00; text-decoration-color: #00af00\">32</span>, <span style=\"color: #00af00; text-decoration-color: #00af00\">1</span>)                │           <span style=\"color: #00af00; text-decoration-color: #00af00\">129</span> │\n",
       "└─────────────────────────────────┴────────────────────────┴───────────────┘\n",
       "</pre>\n"
      ],
      "text/plain": [
       "┏━━━━━━━━━━━━━━━━━━━━━━━━━━━━━━━━━┳━━━━━━━━━━━━━━━━━━━━━━━━┳━━━━━━━━━━━━━━━┓\n",
       "┃\u001b[1m \u001b[0m\u001b[1mLayer (type)                   \u001b[0m\u001b[1m \u001b[0m┃\u001b[1m \u001b[0m\u001b[1mOutput Shape          \u001b[0m\u001b[1m \u001b[0m┃\u001b[1m \u001b[0m\u001b[1m      Param #\u001b[0m\u001b[1m \u001b[0m┃\n",
       "┡━━━━━━━━━━━━━━━━━━━━━━━━━━━━━━━━━╇━━━━━━━━━━━━━━━━━━━━━━━━╇━━━━━━━━━━━━━━━┩\n",
       "│ embedding (\u001b[38;5;33mEmbedding\u001b[0m)           │ (\u001b[38;5;34m32\u001b[0m, \u001b[38;5;34m500\u001b[0m, \u001b[38;5;34m128\u001b[0m)         │     \u001b[38;5;34m1,280,000\u001b[0m │\n",
       "├─────────────────────────────────┼────────────────────────┼───────────────┤\n",
       "│ simple_rnn (\u001b[38;5;33mSimpleRNN\u001b[0m)          │ (\u001b[38;5;34m32\u001b[0m, \u001b[38;5;34m128\u001b[0m)              │        \u001b[38;5;34m32,896\u001b[0m │\n",
       "├─────────────────────────────────┼────────────────────────┼───────────────┤\n",
       "│ dense (\u001b[38;5;33mDense\u001b[0m)                   │ (\u001b[38;5;34m32\u001b[0m, \u001b[38;5;34m1\u001b[0m)                │           \u001b[38;5;34m129\u001b[0m │\n",
       "└─────────────────────────────────┴────────────────────────┴───────────────┘\n"
      ]
     },
     "metadata": {},
     "output_type": "display_data"
    },
    {
     "data": {
      "text/html": [
       "<pre style=\"white-space:pre;overflow-x:auto;line-height:normal;font-family:Menlo,'DejaVu Sans Mono',consolas,'Courier New',monospace\"><span style=\"font-weight: bold\"> Total params: </span><span style=\"color: #00af00; text-decoration-color: #00af00\">1,313,027</span> (5.01 MB)\n",
       "</pre>\n"
      ],
      "text/plain": [
       "\u001b[1m Total params: \u001b[0m\u001b[38;5;34m1,313,027\u001b[0m (5.01 MB)\n"
      ]
     },
     "metadata": {},
     "output_type": "display_data"
    },
    {
     "data": {
      "text/html": [
       "<pre style=\"white-space:pre;overflow-x:auto;line-height:normal;font-family:Menlo,'DejaVu Sans Mono',consolas,'Courier New',monospace\"><span style=\"font-weight: bold\"> Trainable params: </span><span style=\"color: #00af00; text-decoration-color: #00af00\">1,313,025</span> (5.01 MB)\n",
       "</pre>\n"
      ],
      "text/plain": [
       "\u001b[1m Trainable params: \u001b[0m\u001b[38;5;34m1,313,025\u001b[0m (5.01 MB)\n"
      ]
     },
     "metadata": {},
     "output_type": "display_data"
    },
    {
     "data": {
      "text/html": [
       "<pre style=\"white-space:pre;overflow-x:auto;line-height:normal;font-family:Menlo,'DejaVu Sans Mono',consolas,'Courier New',monospace\"><span style=\"font-weight: bold\"> Non-trainable params: </span><span style=\"color: #00af00; text-decoration-color: #00af00\">0</span> (0.00 B)\n",
       "</pre>\n"
      ],
      "text/plain": [
       "\u001b[1m Non-trainable params: \u001b[0m\u001b[38;5;34m0\u001b[0m (0.00 B)\n"
      ]
     },
     "metadata": {},
     "output_type": "display_data"
    },
    {
     "data": {
      "text/html": [
       "<pre style=\"white-space:pre;overflow-x:auto;line-height:normal;font-family:Menlo,'DejaVu Sans Mono',consolas,'Courier New',monospace\"><span style=\"font-weight: bold\"> Optimizer params: </span><span style=\"color: #00af00; text-decoration-color: #00af00\">2</span> (12.00 B)\n",
       "</pre>\n"
      ],
      "text/plain": [
       "\u001b[1m Optimizer params: \u001b[0m\u001b[38;5;34m2\u001b[0m (12.00 B)\n"
      ]
     },
     "metadata": {},
     "output_type": "display_data"
    }
   ],
   "source": [
    "# Load the pre-trained model with ReLU activation\n",
    "model = load_model('simple_rnn_imdb.h5')\n",
    "model.summary()"
   ]
  },
  {
   "cell_type": "code",
   "execution_count": 4,
   "metadata": {},
   "outputs": [
    {
     "data": {
      "text/plain": [
       "[array([[ 0.1252058 ,  0.0665172 , -0.11906094, ..., -0.16507123,\n",
       "          0.2976762 , -0.12071495],\n",
       "        [ 0.01299575, -0.04265469, -0.01586462, ..., -0.01884157,\n",
       "          0.03229634, -0.07039938],\n",
       "        [ 0.06803712,  0.04951211, -0.04060719, ...,  0.01852838,\n",
       "          0.02068556, -0.0349809 ],\n",
       "        ...,\n",
       "        [-0.02681286,  0.00642287, -0.06370997, ...,  0.0093052 ,\n",
       "         -0.05178694, -0.00052837],\n",
       "        [-0.01161149,  0.0408583 ,  0.04272676, ...,  0.00226558,\n",
       "          0.08455144, -0.02152151],\n",
       "        [-0.01420756, -0.03628432,  0.07069056, ...,  0.06507821,\n",
       "         -0.03042251,  0.02910617]], dtype=float32),\n",
       " array([[ 0.01034579, -0.04154759, -0.00333217, ..., -0.08503994,\n",
       "         -0.07658055,  0.03215597],\n",
       "        [-0.18124375, -0.12656221, -0.01493549, ...,  0.16603293,\n",
       "          0.07576071,  0.08316645],\n",
       "        [-0.0996454 ,  0.19171548, -0.10003729, ...,  0.00657294,\n",
       "         -0.23794162,  0.13746156],\n",
       "        ...,\n",
       "        [ 0.03884008, -0.06890215,  0.09388186, ...,  0.10408527,\n",
       "         -0.00112711,  0.11719793],\n",
       "        [ 0.06922761,  0.05312784, -0.04800225, ...,  0.04448098,\n",
       "         -0.08212908, -0.0618929 ],\n",
       "        [ 0.08553224, -0.08974812,  0.0501571 , ..., -0.08646834,\n",
       "         -0.09568673,  0.06164068]], dtype=float32),\n",
       " array([[ 0.09780369, -0.10063165,  0.03500266, ...,  0.07043739,\n",
       "          0.01837567,  0.00276471],\n",
       "        [ 0.13701403,  0.04025537,  0.05266346, ..., -0.13523766,\n",
       "          0.06668025, -0.16779698],\n",
       "        [ 0.06402049, -0.01155935,  0.05148354, ..., -0.18327472,\n",
       "         -0.01644234, -0.00758807],\n",
       "        ...,\n",
       "        [-0.02825361,  0.03909796, -0.01778434, ...,  0.02891837,\n",
       "         -0.14080375, -0.00654787],\n",
       "        [ 0.00822405,  0.01442361, -0.027655  , ..., -0.0369091 ,\n",
       "         -0.01934049, -0.05297201],\n",
       "        [ 0.1979339 , -0.11845347, -0.19817916, ..., -0.0379589 ,\n",
       "          0.03093204, -0.18599679]], dtype=float32),\n",
       " array([ 0.00127405, -0.00659796,  0.00401651, -0.04234735, -0.00808303,\n",
       "        -0.01186846, -0.01387323, -0.01631179,  0.02778657,  0.03761983,\n",
       "        -0.01045892,  0.00841676, -0.00065271, -0.03359726,  0.00655514,\n",
       "         0.00182627,  0.01882004, -0.01243778,  0.02618311, -0.03230673,\n",
       "        -0.01160247, -0.0259776 ,  0.00035857,  0.03055118,  0.00394727,\n",
       "         0.03684769,  0.01443282,  0.01025032, -0.01106163, -0.01714469,\n",
       "        -0.02941895, -0.04175122,  0.01037029, -0.0274354 , -0.01398958,\n",
       "        -0.00952824, -0.005494  , -0.00037209, -0.03128538, -0.04036947,\n",
       "        -0.0015351 , -0.01513641, -0.00358114, -0.02745043, -0.00760644,\n",
       "         0.01659918, -0.00054252, -0.00519012,  0.02469423, -0.02564305,\n",
       "        -0.004899  ,  0.00739627, -0.01534648,  0.00275543, -0.01561733,\n",
       "         0.00829073, -0.01121169, -0.05138474,  0.02320717, -0.05422136,\n",
       "         0.00907387, -0.00196434, -0.01082212,  0.01378723,  0.02697629,\n",
       "        -0.00409309, -0.02024007, -0.01636779, -0.01873819, -0.01885463,\n",
       "        -0.04523211,  0.00230349,  0.00879061, -0.01260321, -0.01432038,\n",
       "         0.00505429, -0.0150823 , -0.01154573, -0.00396178,  0.00555788,\n",
       "        -0.06162998, -0.03171525, -0.00608578, -0.04781687,  0.08485303,\n",
       "        -0.00096253, -0.02725649,  0.03700332, -0.02844289,  0.01090449,\n",
       "        -0.03286273, -0.00334053, -0.00357762,  0.01238682, -0.01489782,\n",
       "         0.01967547, -0.07433695,  0.01026425, -0.05056154,  0.00329503,\n",
       "         0.0226535 , -0.01302432, -0.00520926, -0.01297422,  0.01044848,\n",
       "        -0.00186203, -0.03645109, -0.00775018,  0.00757493, -0.04242998,\n",
       "        -0.04461139,  0.02059902, -0.01353284, -0.00396411, -0.01468094,\n",
       "         0.00871736,  0.00358179,  0.00842556, -0.00768837,  0.00093265,\n",
       "        -0.01623002, -0.00018013, -0.0324071 , -0.00685483, -0.04166001,\n",
       "         0.00998177,  0.01607341, -0.02936943], dtype=float32),\n",
       " array([[ 0.2021267 ],\n",
       "        [-0.05906368],\n",
       "        [-0.26708224],\n",
       "        [-0.1971758 ],\n",
       "        [-0.2060055 ],\n",
       "        [-0.2084838 ],\n",
       "        [ 0.13554889],\n",
       "        [ 0.02018125],\n",
       "        [ 0.08492055],\n",
       "        [ 0.09241526],\n",
       "        [ 0.16839695],\n",
       "        [ 0.04019856],\n",
       "        [ 0.16214399],\n",
       "        [-0.14572452],\n",
       "        [-0.01226606],\n",
       "        [ 0.24646932],\n",
       "        [-0.19667886],\n",
       "        [ 0.17686844],\n",
       "        [-0.082062  ],\n",
       "        [ 0.1538529 ],\n",
       "        [-0.1549151 ],\n",
       "        [-0.04098309],\n",
       "        [ 0.06832378],\n",
       "        [-0.2635833 ],\n",
       "        [ 0.2024665 ],\n",
       "        [ 0.07604505],\n",
       "        [ 0.23115706],\n",
       "        [ 0.17021981],\n",
       "        [ 0.33864838],\n",
       "        [ 0.23656759],\n",
       "        [-0.03092792],\n",
       "        [ 0.18854028],\n",
       "        [-0.33681095],\n",
       "        [-0.10206141],\n",
       "        [ 0.1944976 ],\n",
       "        [ 0.26792696],\n",
       "        [ 0.11800551],\n",
       "        [-0.28328753],\n",
       "        [-0.11428953],\n",
       "        [-0.05731765],\n",
       "        [ 0.21399115],\n",
       "        [ 0.09084951],\n",
       "        [ 0.24772018],\n",
       "        [-0.14648035],\n",
       "        [-0.23530446],\n",
       "        [-0.18925531],\n",
       "        [-0.22602656],\n",
       "        [-0.07472523],\n",
       "        [-0.07579663],\n",
       "        [ 0.04458001],\n",
       "        [-0.05672953],\n",
       "        [-0.07304029],\n",
       "        [ 0.01454424],\n",
       "        [-0.24167101],\n",
       "        [-0.28417486],\n",
       "        [-0.07232788],\n",
       "        [-0.14174943],\n",
       "        [-0.00856843],\n",
       "        [ 0.5149728 ],\n",
       "        [-0.10441712],\n",
       "        [-0.08111591],\n",
       "        [ 0.11583132],\n",
       "        [ 0.21810624],\n",
       "        [-0.15793748],\n",
       "        [-0.24559982],\n",
       "        [ 0.09500553],\n",
       "        [ 0.22698754],\n",
       "        [ 0.06049723],\n",
       "        [-0.10037572],\n",
       "        [ 0.20078102],\n",
       "        [-0.17032331],\n",
       "        [-0.05132907],\n",
       "        [ 0.15008058],\n",
       "        [-0.17588799],\n",
       "        [ 0.21818763],\n",
       "        [-0.08681431],\n",
       "        [ 0.00487509],\n",
       "        [-0.08743914],\n",
       "        [-0.21406424],\n",
       "        [-0.20388792],\n",
       "        [ 0.14072381],\n",
       "        [-0.12271845],\n",
       "        [-0.15159044],\n",
       "        [-0.3146639 ],\n",
       "        [ 0.15251507],\n",
       "        [ 0.5289358 ],\n",
       "        [ 0.00238289],\n",
       "        [ 0.3140382 ],\n",
       "        [-0.05854904],\n",
       "        [ 0.13339746],\n",
       "        [ 0.19753408],\n",
       "        [-0.15730241],\n",
       "        [ 0.21399167],\n",
       "        [ 0.25864765],\n",
       "        [ 0.11740132],\n",
       "        [ 0.14196506],\n",
       "        [ 0.03327937],\n",
       "        [-0.21841878],\n",
       "        [-0.22444902],\n",
       "        [ 0.21340314],\n",
       "        [-0.11830112],\n",
       "        [-0.28663865],\n",
       "        [-0.1543721 ],\n",
       "        [-0.06473375],\n",
       "        [ 0.2171736 ],\n",
       "        [ 0.21937098],\n",
       "        [ 0.22086434],\n",
       "        [-0.00945712],\n",
       "        [ 0.37752405],\n",
       "        [-0.23495242],\n",
       "        [ 0.05741405],\n",
       "        [-0.07603683],\n",
       "        [ 0.16341949],\n",
       "        [ 0.20816788],\n",
       "        [ 0.0744588 ],\n",
       "        [-0.20816697],\n",
       "        [ 0.00561922],\n",
       "        [ 0.41392794],\n",
       "        [-0.10156557],\n",
       "        [ 0.06188938],\n",
       "        [-0.07324981],\n",
       "        [ 0.01220234],\n",
       "        [ 0.18238835],\n",
       "        [-0.06975786],\n",
       "        [-0.05950487],\n",
       "        [ 0.12434431],\n",
       "        [-0.21895553],\n",
       "        [-0.01176515]], dtype=float32),\n",
       " array([0.15565981], dtype=float32)]"
      ]
     },
     "execution_count": 4,
     "metadata": {},
     "output_type": "execute_result"
    }
   ],
   "source": [
    "model.get_weights()"
   ]
  },
  {
   "cell_type": "code",
   "execution_count": 5,
   "metadata": {},
   "outputs": [],
   "source": [
    "# Step 2: Helper Functions\n",
    "# Function to decode reviews\n",
    "def decode_review(encoded_review):\n",
    "    return ' '.join([reverse_word_index.get(i - 3, '?') for i in encoded_review])\n",
    "\n",
    "# Function to preprocess user input, basically converting the input word to corresponding index or padded representation  in imbd data\n",
    "def preprocess_text(text):\n",
    "    words = text.lower().split()\n",
    "    # word_index dict [index: value] of entire imbd data\n",
    "    encoded_review = [word_index.get(word, 2) + 3 for word in words]\n",
    "    padded_review = sequence.pad_sequences([encoded_review], maxlen=500)\n",
    "    return padded_review # fixed length word vector , sentance"
   ]
  },
  {
   "cell_type": "code",
   "execution_count": 14,
   "metadata": {},
   "outputs": [],
   "source": [
    "### Prediction  function\n",
    "\n",
    "def predict_sentiment(review):\n",
    "    preprocessed_input=preprocess_text(review)\n",
    "\n",
    "    prediction=model.predict(preprocessed_input)\n",
    "\n",
    "    sentiment = 'Positive' if prediction[0][0] > 0.7 else 'Negative'\n",
    "    \n",
    "    return sentiment, prediction[0][0]\n",
    "\n"
   ]
  },
  {
   "cell_type": "code",
   "execution_count": 15,
   "metadata": {},
   "outputs": [
    {
     "name": "stdout",
     "output_type": "stream",
     "text": [
      "\u001b[1m1/1\u001b[0m \u001b[32m━━━━━━━━━━━━━━━━━━━━\u001b[0m\u001b[37m\u001b[0m \u001b[1m0s\u001b[0m 54ms/step\n",
      "Review: This movie was fantastic! The acting was great and the plot was thrilling.\n",
      "Sentiment: Positive\n",
      "Prediction Score: 0.783341646194458\n"
     ]
    }
   ],
   "source": [
    "# Step 4: User Input and Prediction\n",
    "# Example review for prediction\n",
    "example_review = \"This movie was fantastic! The acting was great and the plot was thrilling.\"\n",
    "\n",
    "sentiment,score=predict_sentiment(example_review)\n",
    "\n",
    "print(f'Review: {example_review}')\n",
    "print(f'Sentiment: {sentiment}')\n",
    "print(f'Prediction Score: {score}')"
   ]
  },
  {
   "cell_type": "code",
   "execution_count": null,
   "metadata": {},
   "outputs": [],
   "source": []
  },
  {
   "cell_type": "code",
   "execution_count": null,
   "metadata": {},
   "outputs": [],
   "source": []
  },
  {
   "cell_type": "code",
   "execution_count": null,
   "metadata": {},
   "outputs": [],
   "source": []
  },
  {
   "cell_type": "code",
   "execution_count": null,
   "metadata": {},
   "outputs": [],
   "source": []
  }
 ],
 "metadata": {
  "kernelspec": {
   "display_name": "Python 3",
   "language": "python",
   "name": "python3"
  },
  "language_info": {
   "codemirror_mode": {
    "name": "ipython",
    "version": 3
   },
   "file_extension": ".py",
   "mimetype": "text/x-python",
   "name": "python",
   "nbconvert_exporter": "python",
   "pygments_lexer": "ipython3",
   "version": "3.12.0"
  }
 },
 "nbformat": 4,
 "nbformat_minor": 2
}
